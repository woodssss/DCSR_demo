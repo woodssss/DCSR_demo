{
 "cells": [
  {
   "cell_type": "code",
   "id": "initial_id",
   "metadata": {
    "collapsed": true,
    "ExecuteTime": {
     "end_time": "2025-05-20T15:04:45.521693Z",
     "start_time": "2025-05-20T15:04:43.404049Z"
    }
   },
   "source": [
    "import matplotlib.pyplot as plt\n",
    "import numpy as np\n",
    "from config.SC_config_1d import *\n",
    "from config.config_1d import *\n",
    "from utils_1d.data_utils import *\n",
    "from utils_1d.solver_utils import *"
   ],
   "outputs": [],
   "execution_count": 1
  },
  {
   "metadata": {
    "ExecuteTime": {
     "end_time": "2025-05-20T15:05:42.727888Z",
     "start_time": "2025-05-20T15:05:42.698496Z"
    }
   },
   "cell_type": "code",
   "source": [
    "## Load models\n",
    "load_epoch =5000\n",
    "chkpts_name_c_gen = cwd + '/mdls/' + save_name_c_gen + '_epoch_' + str(load_epoch) + '_ckpt.pth'\n",
    "ckpt_c = torch.load(chkpts_name_c_gen)\n",
    "model_c_gen.load_state_dict(ckpt_c)"
   ],
   "id": "24631bfbb65c4b45",
   "outputs": [
    {
     "name": "stderr",
     "output_type": "stream",
     "text": [
      "C:\\Users\\wzhex\\AppData\\Local\\Temp\\ipykernel_37340\\2675304089.py:4: FutureWarning: You are using `torch.load` with `weights_only=False` (the current default value), which uses the default pickle module implicitly. It is possible to construct malicious pickle data which will execute arbitrary code during unpickling (See https://github.com/pytorch/pytorch/blob/main/SECURITY.md#untrusted-models for more details). In a future release, the default value for `weights_only` will be flipped to `True`. This limits the functions that could be executed during unpickling. Arbitrary objects will no longer be allowed to be loaded via this mode unless they are explicitly allowlisted by the user via `torch.serialization.add_safe_globals`. We recommend you start setting `weights_only=True` for any use case where you don't have full control of the loaded file. Please open an issue on GitHub for any issues related to this experimental feature.\n",
      "  ckpt_c = torch.load(chkpts_name_c_gen)\n"
     ]
    },
    {
     "data": {
      "text/plain": [
       "<All keys matched successfully>"
      ]
     },
     "execution_count": 2,
     "metadata": {},
     "output_type": "execute_result"
    }
   ],
   "execution_count": 2
  },
  {
   "metadata": {
    "ExecuteTime": {
     "end_time": "2025-05-20T15:05:47.987968Z",
     "start_time": "2025-05-20T15:05:47.969350Z"
    }
   },
   "cell_type": "code",
   "source": [
    "### Load data\n",
    "with open(Data_name, 'rb') as ss:\n",
    "    real = np.load(ss)\n",
    "    god = np.load(ss)\n",
    "    lw = np.load(ss)\n",
    "    cd = np.load(ss)\n",
    "    fft = np.load(ss)"
   ],
   "id": "45a5c1c72c594025",
   "outputs": [],
   "execution_count": 3
  },
  {
   "metadata": {
    "ExecuteTime": {
     "end_time": "2025-05-20T15:05:51.844491Z",
     "start_time": "2025-05-20T15:05:51.839487Z"
    }
   },
   "cell_type": "code",
   "source": [
    "######### define problem type ###############\n",
    "#type = 'pink'\n",
    "type = 'lw'\n",
    "bs = 50\n",
    "np.random.seed(42)\n",
    "\n",
    "if type == 'white' or type == 'pink' or type == 'brown':\n",
    "    rows_to_delete = []\n",
    "    for i in range(real.shape[0]):\n",
    "        if np.max(np.abs(real[i, ...]))<1e-2:\n",
    "            rows_to_delete.append(i)\n",
    "            \n",
    "    real = np.delete(real, rows_to_delete, axis=0)\n",
    "real = real[:bs, ...]\n",
    "\n",
    "if type == 'cd':\n",
    "    test = cd[:bs, ...]\n",
    "elif type == 'lw':\n",
    "    test = lw[:bs, ...]\n",
    "elif type == 'god':\n",
    "    test = god[:bs, ...]\n",
    "elif type == 'fft':\n",
    "    test = fft[:bs, ...]\n",
    "elif type == 'white':\n",
    "    test = real[:bs, ...] + 0.1 * np.random.randn(*real[:bs, ...].shape)\n",
    "elif type == 'pink':\n",
    "    test = real[:bs, ...] + 0.1 * generate_batch_pink_noise_1d(bs, real.shape[1])\n",
    "elif type == 'brown':\n",
    "    test = real[:bs, ...] + 0.1 * generate_batch_pink_noise_1d(bs, real.shape[1], pinkness=2)"
   ],
   "id": "58cbb6a866c1557d",
   "outputs": [],
   "execution_count": 4
  },
  {
   "metadata": {
    "ExecuteTime": {
     "end_time": "2025-05-20T15:05:58.782479Z",
     "start_time": "2025-05-20T15:05:58.774464Z"
    }
   },
   "cell_type": "code",
   "source": [
    "bpd = np.zeros((7, 4, bs))\n",
    "ipd = np.zeros((7, 4, bs))"
   ],
   "id": "3a6c91d418ea40fc",
   "outputs": [],
   "execution_count": 5
  },
  {
   "metadata": {
    "ExecuteTime": {
     "end_time": "2025-05-20T15:07:02.228326Z",
     "start_time": "2025-05-20T15:06:04.323512Z"
    }
   },
   "cell_type": "code",
   "source": [
    "T_ls = [0.05, 0.1, 0.15, 0.2, 0.25, 0.3, 0.35]\n",
    "for i, T in enumerate(T_ls):\n",
    "    for metric in range(1, 5):\n",
    "        if metric == 1:\n",
    "            method = 'mmd'\n",
    "            weight = False\n",
    "            Method_name = 'MMD'\n",
    "        elif metric == 2:\n",
    "            method = 'spectral'\n",
    "            weight = False\n",
    "            Method_name = 'MELRu'\n",
    "        elif metric == 3:\n",
    "            method = 'spectral'\n",
    "            weight = True\n",
    "            Method_name = 'MELRw'\n",
    "        elif metric == 4:\n",
    "            method = 'w2'\n",
    "            weight = False\n",
    "            Method_name = 'W2'\n",
    "            \n",
    "        sigma = 0.01\n",
    "        Ts = 0.01\n",
    "        t_ls = np.linspace(Ts, T, 10)\n",
    "        \n",
    "        min, t = find_opt_t(test[..., None], real[..., None], marginal_prob_std_fn, t_ls, max_k=64, metric=method, weight=weight, sigma=sigma)\n",
    "        \n",
    "        min, t1, t2 = find_inter_t(test[..., None], real[..., None], marginal_prob_std_fn, t_ls, max_k=64, metric=method, weight=weight, sigma=sigma)\n",
    "        \n",
    "        Y_test = torch.from_numpy(test[:bs, ..., None]).float().to(device)\n",
    "        \n",
    "        transfer_sdit_test_imb = transfer_sdit(marginal_prob_std_fn, diffusion_coeff_fn, model_c_gen, Y_test, eps=1e-5, t1=t1, t2=t2)\n",
    "        transfer_sdit_test_vani = transfer_sdit(marginal_prob_std_fn, diffusion_coeff_fn, model_c_gen, Y_test, eps=1e-5, t1=t, t2=t)\n",
    "        \n",
    "        error_vani2ref_tvd = compute_TVD_vec(transfer_sdit_test_vani, real[..., None])\n",
    "        error_imb2ref_tvd = compute_TVD_vec(transfer_sdit_test_imb, real[..., None])\n",
    "        \n",
    "        #print(error_imb2ref_tvd.shape, error_vani2ref_tvd.shape)\n",
    "        \n",
    "        bpd[i, metric-1, ...] = error_vani2ref_tvd\n",
    "        ipd[i, metric-1, ...] = error_imb2ref_tvd  "
   ],
   "id": "2995a1d27b7178a4",
   "outputs": [
    {
     "name": "stderr",
     "output_type": "stream",
     "text": [
      "D:\\pycharm\\DCSR\\utils_1d\\train_sc_utils.py:29: UserWarning: To copy construct from a tensor, it is recommended to use sourceTensor.clone().detach() or sourceTensor.clone().detach().requires_grad_(True), rather than torch.tensor(sourceTensor).\n",
      "  t = torch.tensor(t, device=device)\n",
      "D:\\pycharm\\DCSR\\utils_1d\\train_sc_utils.py:43: UserWarning: To copy construct from a tensor, it is recommended to use sourceTensor.clone().detach() or sourceTensor.clone().detach().requires_grad_(True), rather than torch.tensor(sourceTensor).\n",
      "  return torch.tensor(sigma ** t, device=device)\n"
     ]
    },
    {
     "name": "stdout",
     "output_type": "stream",
     "text": [
      "Number of function evaluations: 368\n",
      "Number of function evaluations: 368\n"
     ]
    },
    {
     "name": "stderr",
     "output_type": "stream",
     "text": [
      "D:\\pycharm\\DCSR\\utils_1d\\data_utils.py:523: RuntimeWarning: divide by zero encountered in divide\n",
      "  return np.sum(np.abs(pd - ref), axis=(1,2)) / np.sum(np.abs(ref), axis=(1,2))\n"
     ]
    },
    {
     "name": "stdout",
     "output_type": "stream",
     "text": [
      "Number of function evaluations: 332\n",
      "Number of function evaluations: 320\n",
      "Number of function evaluations: 350\n",
      "Number of function evaluations: 356\n",
      "Number of function evaluations: 326\n",
      "Number of function evaluations: 290\n",
      "Number of function evaluations: 416\n",
      "Number of function evaluations: 404\n",
      "Number of function evaluations: 332\n",
      "Number of function evaluations: 338\n",
      "Number of function evaluations: 344\n",
      "Number of function evaluations: 374\n",
      "Number of function evaluations: 320\n",
      "Number of function evaluations: 290\n",
      "Number of function evaluations: 530\n",
      "Number of function evaluations: 416\n",
      "Number of function evaluations: 344\n",
      "Number of function evaluations: 290\n",
      "Number of function evaluations: 338\n",
      "Number of function evaluations: 416\n",
      "Number of function evaluations: 332\n",
      "Number of function evaluations: 296\n",
      "Number of function evaluations: 464\n",
      "Number of function evaluations: 434\n",
      "Number of function evaluations: 332\n",
      "Number of function evaluations: 404\n",
      "Number of function evaluations: 344\n",
      "Number of function evaluations: 410\n",
      "Number of function evaluations: 332\n",
      "Number of function evaluations: 290\n"
     ]
    },
    {
     "name": "stderr",
     "output_type": "stream",
     "text": [
      "D:\\pycharm\\DCSR\\utils_1d\\data_utils.py:451: RuntimeWarning: overflow encountered in exp\n",
      "  return np.exp(-distances / (2 * sigma ** 2))\n"
     ]
    },
    {
     "name": "stdout",
     "output_type": "stream",
     "text": [
      "Number of function evaluations: 428\n",
      "Number of function evaluations: 356\n",
      "Number of function evaluations: 326\n",
      "Number of function evaluations: 458\n",
      "Number of function evaluations: 350\n",
      "Number of function evaluations: 296\n",
      "Number of function evaluations: 326\n",
      "Number of function evaluations: 290\n",
      "Number of function evaluations: 344\n",
      "Number of function evaluations: 296\n",
      "Number of function evaluations: 332\n",
      "Number of function evaluations: 398\n",
      "Number of function evaluations: 350\n",
      "Number of function evaluations: 440\n",
      "Number of function evaluations: 344\n",
      "Number of function evaluations: 296\n",
      "Number of function evaluations: 404\n",
      "Number of function evaluations: 422\n",
      "Number of function evaluations: 326\n",
      "Number of function evaluations: 296\n",
      "Number of function evaluations: 368\n",
      "Number of function evaluations: 422\n",
      "Number of function evaluations: 332\n",
      "Number of function evaluations: 290\n"
     ]
    }
   ],
   "execution_count": 6
  },
  {
   "metadata": {
    "ExecuteTime": {
     "end_time": "2025-05-20T15:07:42.816932Z",
     "start_time": "2025-05-20T15:07:42.799331Z"
    }
   },
   "cell_type": "code",
   "source": [
    "bpd_mmd, bpd_melru, bpd_melrw, bpd_w2 = bpd[:, 0, ...], bpd[:, 1, ...], bpd[:, 2, ...], bpd[:, 3, ...]\n",
    "ipd_mmd, ipd_melru, ipd_melrw, ipd_w2 = ipd[:, 0, ...], ipd[:, 1, ...], ipd[:, 2, ...], ipd[:, 3, ...]"
   ],
   "id": "aa260fbd13959c29",
   "outputs": [],
   "execution_count": 7
  },
  {
   "metadata": {
    "ExecuteTime": {
     "end_time": "2025-05-20T15:07:44.977985Z",
     "start_time": "2025-05-20T15:07:44.967291Z"
    }
   },
   "cell_type": "code",
   "source": [
    "mean_bpd_mmd = np.mean(bpd_mmd, axis=1)\n",
    "var_bpd_mmd = np.var(bpd_mmd, axis=1)\n",
    "\n",
    "mean_bpd_melru = np.mean(bpd_melru, axis=1)\n",
    "var_bpd_melru = np.var(bpd_melru, axis=1)\n",
    "\n",
    "mean_bpd_melrw = np.mean(bpd_melrw, axis=1)\n",
    "var_bpd_melrw = np.var(bpd_melrw, axis=1)\n",
    "\n",
    "mean_bpd_w2 = np.mean(bpd_w2, axis=1)\n",
    "var_bpd_w2 = np.var(bpd_w2, axis=1)\n",
    "\n",
    "###########################################\n",
    "\n",
    "mean_ipd_mmd = np.mean(ipd_mmd, axis=1)\n",
    "var_ipd_mmd = np.var(ipd_mmd, axis=1)\n",
    "\n",
    "mean_ipd_melru = np.mean(ipd_melru, axis=1)\n",
    "var_ipd_melru = np.var(ipd_melru, axis=1)\n",
    "\n",
    "mean_ipd_melrw = np.mean(ipd_melrw, axis=1)\n",
    "var_ipd_melrw = np.var(ipd_melrw, axis=1)\n",
    "\n",
    "mean_ipd_w2 = np.mean(ipd_w2, axis=1)\n",
    "var_ipd_w2 = np.var(ipd_w2, axis=1)"
   ],
   "id": "18302ad3ffa4edd5",
   "outputs": [
    {
     "name": "stderr",
     "output_type": "stream",
     "text": [
      "C:\\Users\\wzhex\\anaconda3\\envs\\torch_gpu\\lib\\site-packages\\numpy\\core\\_methods.py:236: RuntimeWarning: invalid value encountered in subtract\n",
      "  x = asanyarray(arr - arrmean)\n"
     ]
    }
   ],
   "execution_count": 8
  },
  {
   "metadata": {
    "ExecuteTime": {
     "end_time": "2025-05-20T15:18:15.186051Z",
     "start_time": "2025-05-20T15:18:14.573692Z"
    }
   },
   "cell_type": "code",
   "source": [
    "import seaborn as sns\n",
    "import numpy as np\n",
    "import pandas as pd\n",
    "\n",
    "fig_name = 'figs/ablation_'+type + '.png'\n",
    "\n",
    "data_combined = np.concatenate([bpd, ipd], axis=1)\n",
    "class_names = [\"BPD MMD\", \"BPD MELRu\", \"BPD MELRw\", r\"BPD $\\mathcal{W}_2$\",\n",
    "               \"IPD MMD\", \"IPD MELRu\", \"IPD MELRw\", r\"IPD $\\mathcal{W}_2$\"]\n",
    "data_for_plotting = {\n",
    "    'Timestep': [],\n",
    "    'Class': [],\n",
    "    'TVD': []\n",
    "}\n",
    "for i, t in enumerate(T_ls):\n",
    "    for j, class_name in enumerate(class_names):  # Iterate over named classes\n",
    "        accuracies = data_combined[i, j, :]  # Extract data for this timestep and class\n",
    "        data_for_plotting['Timestep'].extend([t] * len(accuracies))\n",
    "        data_for_plotting['Class'].extend([class_name] * len(accuracies))\n",
    "        data_for_plotting['TVD'].extend(accuracies.tolist())\n",
    "\n",
    "# Convert to a DataFrame\n",
    "df = pd.DataFrame(data_for_plotting)\n",
    "\n",
    "plt.figure(figsize=(18, 6))\n",
    "sns.boxplot(x='Timestep', y='TVD', hue='Class', data=df, showfliers=False)\n",
    "\n",
    "# Customization\n",
    "plt.xlabel('$T_e$', fontsize=24)\n",
    "plt.ylabel('TVD', fontsize=24)\n",
    "plt.ylim([0, 0.15])\n",
    "#plt.title('Boxplots of TVD for Named Classes Across Timesteps', fontsize=14)\n",
    "#legend = plt.legend(bbox_to_anchor=(1.05, 1), loc='upper right', fontsize=10)\n",
    "plt.legend(loc='upper center', bbox_to_anchor=(0.5, 1.35), ncol=4, fontsize=24)  # Adjust position and layout\n",
    "#plt.legend([], [], frameon=False)\n",
    "plt.xticks(fontsize=24)\n",
    "plt.yticks(fontsize=24)\n",
    "plt.tight_layout()\n",
    "plt.savefig(fig_name, bbox_inches='tight')\n",
    "# Show plot\n",
    "plt.show()"
   ],
   "id": "34db0ceacce25dfd",
   "outputs": [
    {
     "data": {
      "text/plain": [
       "<Figure size 1800x600 with 1 Axes>"
      ],
      "image/png": "[encoded data removed]"
     },
     "metadata": {},
     "output_type": "display_data"
    }
   ],
   "execution_count": 11
  },
  {
   "metadata": {
    "ExecuteTime": {
     "end_time": "2025-01-20T14:22:45.216082Z",
     "start_time": "2025-01-20T14:22:45.201721Z"
    }
   },
   "cell_type": "code",
   "source": "",
   "id": "695328f9185fc090",
   "outputs": [],
   "execution_count": null
  }
 ],
 "metadata": {
  "kernelspec": {
   "display_name": "Python 3",
   "language": "python",
   "name": "python3"
  },
  "language_info": {
   "codemirror_mode": {
    "name": "ipython",
    "version": 2
   },
   "file_extension": ".py",
   "mimetype": "text/x-python",
   "name": "python",
   "nbconvert_exporter": "python",
   "pygments_lexer": "ipython2",
   "version": "2.7.6"
  }
 },
 "nbformat": 4,
 "nbformat_minor": 5
}
